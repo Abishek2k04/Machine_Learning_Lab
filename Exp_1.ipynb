{
 "cells": [
  {
   "cell_type": "code",
   "execution_count": 1,
   "id": "6db13b43-f57c-4517-b690-ac442bf6581b",
   "metadata": {},
   "outputs": [],
   "source": [
    "import pandas as pd\n",
    "import numpy as np\n",
    "from sklearn.preprocessing import MinMaxScaler, OneHotEncoder\n",
    "from sklearn.impute import SimpleImputer\n",
    "from sklearn.feature_selection import SelectKBest, chi2\n",
    "from sklearn.compose import ColumnTransformer\n",
    "from sklearn.pipeline import Pipeline"
   ]
  },
  {
   "cell_type": "code",
   "execution_count": 2,
   "id": "99a7dcbf-bd88-4624-95b9-5b196431adad",
   "metadata": {},
   "outputs": [
    {
     "name": "stdout",
     "output_type": "stream",
     "text": [
      "--- First 5 rows of the loaded data ---\n",
      "   PassengerId  Survived  Pclass  \\\n",
      "0            1         0       3   \n",
      "1            2         1       1   \n",
      "2            3         1       3   \n",
      "3            4         1       1   \n",
      "4            5         0       3   \n",
      "\n",
      "                                                Name     Sex   Age  SibSp  \\\n",
      "0                            Braund, Mr. Owen Harris    male  22.0      1   \n",
      "1  Cumings, Mrs. John Bradley (Florence Briggs Th...  female  38.0      1   \n",
      "2                             Heikkinen, Miss. Laina  female  26.0      0   \n",
      "3       Futrelle, Mrs. Jacques Heath (Lily May Peel)  female  35.0      1   \n",
      "4                           Allen, Mr. William Henry    male  35.0      0   \n",
      "\n",
      "   Parch            Ticket     Fare Cabin Embarked  \n",
      "0      0         A/5 21171   7.2500   NaN        S  \n",
      "1      0          PC 17599  71.2833   C85        C  \n",
      "2      0  STON/O2. 3101282   7.9250   NaN        S  \n",
      "3      0            113803  53.1000  C123        S  \n",
      "4      0            373450   8.0500   NaN        S  \n"
     ]
    }
   ],
   "source": [
    "# --- 1. Load Data from a Link ---\n",
    "# Replace this URL with the link to your dataset.\n",
    "# This example uses the Titanic dataset.\n",
    "url = 'https://raw.githubusercontent.com/datasciencedojo/datasets/master/titanic.csv'\n",
    "df = pd.read_csv(url)\n",
    "\n",
    "print(\"--- First 5 rows of the loaded data ---\")\n",
    "print(df.head())"
   ]
  },
  {
   "cell_type": "code",
   "execution_count": 3,
   "id": "dc94a9d0-8503-4a20-866a-7cc429a0a5a3",
   "metadata": {},
   "outputs": [
    {
     "name": "stdout",
     "output_type": "stream",
     "text": [
      "\n",
      "--- Features being used for analysis ---\n",
      "   Pclass     Sex   Age  SibSp  Parch     Fare Embarked\n",
      "0       3    male  22.0      1      0   7.2500        S\n",
      "1       1  female  38.0      1      0  71.2833        C\n",
      "2       3  female  26.0      0      0   7.9250        S\n",
      "3       1  female  35.0      1      0  53.1000        S\n",
      "4       3    male  35.0      0      0   8.0500        S\n"
     ]
    }
   ],
   "source": [
    "# --- 2. Adapt for the New Dataset ---\n",
    "# IMPORTANT: You must update these variables to match your dataset's columns.\n",
    "\n",
    "# Define the target variable and the features to use\n",
    "target_column = 'Survived'\n",
    "features_to_drop = ['PassengerId', 'Name', 'Ticket', 'Cabin'] # Drop identifiers or high-cardinality features\n",
    "\n",
    "# Separate features (X) and target variable (y)\n",
    "X = df.drop([target_column] + features_to_drop, axis=1)\n",
    "y = df[target_column]\n",
    "\n",
    "# Identify column types from YOUR dataset\n",
    "numerical_features = ['Age', 'Fare', 'SibSp', 'Parch']\n",
    "categorical_features = ['Pclass', 'Sex', 'Embarked']\n",
    "\n",
    "print(\"\\n--- Features being used for analysis ---\")\n",
    "print(X.head())\n",
    "\n"
   ]
  },
  {
   "cell_type": "code",
   "execution_count": 4,
   "id": "c9e61e66-ac33-4f4c-a2a9-dc3bd13b8916",
   "metadata": {},
   "outputs": [
    {
     "name": "stdout",
     "output_type": "stream",
     "text": [
      "\n",
      "--- Shape of data after preprocessing ---\n",
      "Processed data shape: (891, 12)\n"
     ]
    }
   ],
   "source": [
    "# --- 3. Data Preprocessing (This part remains mostly the same) ---\n",
    "\n",
    "# Create a preprocessing pipeline for numerical features\n",
    "numerical_transformer = Pipeline(steps=[\n",
    "    ('imputer', SimpleImputer(strategy='mean')),\n",
    "    ('scaler', MinMaxScaler())\n",
    "])\n",
    "\n",
    "# Create a preprocessing pipeline for categorical features\n",
    "categorical_transformer = Pipeline(steps=[\n",
    "    ('imputer', SimpleImputer(strategy='most_frequent')),\n",
    "    ('onehot', OneHotEncoder(handle_unknown='ignore'))\n",
    "])\n",
    "\n",
    "# Bundle preprocessing for numerical and categorical data\n",
    "preprocessor = ColumnTransformer(\n",
    "    transformers=[\n",
    "        ('num', numerical_transformer, numerical_features),\n",
    "        ('cat', categorical_transformer, categorical_features)\n",
    "    ])\n",
    "\n",
    "# Apply the preprocessing steps\n",
    "X_processed = preprocessor.fit_transform(X)\n",
    "\n",
    "# Get the new feature names after one-hot encoding\n",
    "new_categorical_features = preprocessor.named_transformers_['cat']['onehot'].get_feature_names_out(categorical_features)\n",
    "all_feature_names = numerical_features + list(new_categorical_features)\n",
    "\n",
    "print(\"\\n--- Shape of data after preprocessing ---\")\n",
    "print(\"Processed data shape:\", X_processed.shape)\n"
   ]
  },
  {
   "cell_type": "code",
   "execution_count": 5,
   "id": "86eb685c-02e6-4218-9451-8d851acd0008",
   "metadata": {},
   "outputs": [
    {
     "name": "stdout",
     "output_type": "stream",
     "text": [
      "\n",
      "--- Feature Selection Results ---\n",
      "Original number of features: 12\n",
      "Reduced number of features: 6\n",
      "Selected features: ['Fare', 'Pclass_1', 'Pclass_3', 'Sex_female', 'Sex_male', 'Embarked_C']\n"
     ]
    }
   ],
   "source": [
    "# --- 4. Apply Feature Selection Method (Chi-Squared Test) ---\n",
    "# Select the 6 best features from the processed data.\n",
    "k_best_features = 6\n",
    "selector = SelectKBest(score_func=chi2, k=k_best_features)\n",
    "X_new = selector.fit_transform(X_processed, y)\n",
    "\n",
    "# Get the names of the selected features\n",
    "selected_indices = selector.get_support(indices=True)\n",
    "selected_features = [all_feature_names[i] for i in selected_indices]\n",
    "\n",
    "print(\"\\n--- Feature Selection Results ---\")\n",
    "print(f\"Original number of features: {X_processed.shape[1]}\")\n",
    "print(f\"Reduced number of features: {X_new.shape[1]}\")\n",
    "print(f\"Selected features: {selected_features}\")"
   ]
  },
  {
   "cell_type": "code",
   "execution_count": 6,
   "id": "aa9a4b08-b52e-4c51-9cde-30add29fc158",
   "metadata": {},
   "outputs": [
    {
     "name": "stdout",
     "output_type": "stream",
     "text": [
      "\n",
      "--- Final Data Ready for a Model (Top 5 rows) ---\n",
      "       Fare  Pclass_1  Pclass_3  Sex_female  Sex_male  Embarked_C\n",
      "0  0.014151       0.0       1.0         0.0       1.0         0.0\n",
      "1  0.139136       1.0       0.0         1.0       0.0         1.0\n",
      "2  0.015469       0.0       1.0         1.0       0.0         0.0\n",
      "3  0.103644       1.0       0.0         1.0       0.0         0.0\n",
      "4  0.015713       0.0       1.0         0.0       1.0         0.0\n"
     ]
    }
   ],
   "source": [
    "# Final data ready for a model\n",
    "final_df = pd.DataFrame(X_new, columns=selected_features)\n",
    "print(\"\\n--- Final Data Ready for a Model (Top 5 rows) ---\")\n",
    "print(final_df.head())"
   ]
  },
  {
   "cell_type": "code",
   "execution_count": null,
   "id": "b65fd3b8-7d38-45d5-bc32-22cb49306072",
   "metadata": {},
   "outputs": [],
   "source": []
  }
 ],
 "metadata": {
  "kernelspec": {
   "display_name": "Python 3 (ipykernel)",
   "language": "python",
   "name": "python3"
  },
  "language_info": {
   "codemirror_mode": {
    "name": "ipython",
    "version": 3
   },
   "file_extension": ".py",
   "mimetype": "text/x-python",
   "name": "python",
   "nbconvert_exporter": "python",
   "pygments_lexer": "ipython3",
   "version": "3.12.4"
  }
 },
 "nbformat": 4,
 "nbformat_minor": 5
}
