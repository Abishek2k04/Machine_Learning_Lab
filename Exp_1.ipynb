{
 "cells": [
  {
   "cell_type": "code",
   "execution_count": 10,
   "id": "bf57d593-58ba-4da8-bd30-4f2aca865174",
   "metadata": {},
   "outputs": [
    {
     "name": "stdout",
     "output_type": "stream",
     "text": [
      "--- Feature Selection Results ---\n",
      "Scores for each feature (higher is better): [0.69 1.   1.33 0.89 2.   3.  ]\n",
      "\n",
      "Original number of features: 6\n",
      "Reduced number of features: 4\n",
      "Selected features: ['fare', 'sex_female', 'embarked_C', 'embarked_S']\n",
      "\n",
      "--- Final Data with Selected Features ---\n",
      "   fare  sex_female  embarked_C  embarked_S\n",
      "0   1.0         1.0         1.0         0.0\n",
      "1   0.2         0.0         0.0         1.0\n",
      "2   0.5         1.0         1.0         0.0\n",
      "3   0.0         0.0         0.0         1.0\n",
      "4   0.7         0.0         1.0         0.0\n"
     ]
    }
   ],
   "source": [
    "import pandas as pd\n",
    "import numpy as np\n",
    "from sklearn.feature_selection import SelectKBest, chi2\n",
    "\n",
    "# --- Assume you have preprocessed data and feature names ---\n",
    "# X_processed: Your numerical, non-negative feature data (NumPy array)\n",
    "# y: Your target variable (e.g., a pandas Series or NumPy array)\n",
    "# all_feature_names: A list of names for the columns in X_processed\n",
    "\n",
    "# Example placeholder data:\n",
    "X_processed = np.array([\n",
    "    [0.5, 1.0, 1, 0, 1, 0],\n",
    "    [0.8, 0.2, 0, 1, 0, 1],\n",
    "    [0.1, 0.5, 1, 0, 1, 0],\n",
    "    [1.0, 0.0, 0, 1, 0, 1],\n",
    "    [0.4, 0.7, 0, 1, 1, 0]\n",
    "])\n",
    "y = np.array([1, 0, 1, 0, 1])\n",
    "all_feature_names = ['age', 'fare', 'sex_female', 'sex_male', 'embarked_C', 'embarked_S']\n",
    "\n",
    "# --- Apply Chi-Squared Feature Selection ---\n",
    "# Select the 'k' best features. Let's choose k=4.\n",
    "k_best_features = 4\n",
    "\n",
    "# Create the selector object\n",
    "# The score_func=chi2 calculates the chi-squared stat between each feature and the target.\n",
    "selector = SelectKBest(score_func=chi2, k=k_best_features)\n",
    "\n",
    "# Run the feature selection on your data\n",
    "X_new = selector.fit_transform(X_processed, y)\n",
    "\n",
    "# Get the names of the selected features\n",
    "selected_indices = selector.get_support(indices=True)\n",
    "selected_features = [all_feature_names[i] for i in selected_indices]\n",
    "\n",
    "\n",
    "# --- Display the Results ---\n",
    "print(\"--- Feature Selection Results ---\")\n",
    "print(f\"Scores for each feature (higher is better): {np.round(selector.scores_, 2)}\")\n",
    "print(f\"\\nOriginal number of features: {X_processed.shape[1]}\")\n",
    "print(f\"Reduced number of features: {X_new.shape[1]}\")\n",
    "print(f\"Selected features: {selected_features}\")\n",
    "\n",
    "# The final data ready for a model\n",
    "final_df = pd.DataFrame(X_new, columns=selected_features)\n",
    "print(\"\\n--- Final Data with Selected Features ---\")\n",
    "print(final_df)"
   ]
  },
  {
   "cell_type": "markdown",
   "id": "277f8a11-166b-4a16-b250-5f5a21df3f45",
   "metadata": {},
   "source": [
    "\n",
    "**(1) Prepare non-negative data and a target variable**\n",
    "**(2) choose the number of features k to keep**\n",
    "**(3) calculate the Chi-squared score for each feature**\n",
    "**(4) select the top k features with the highest scores**\n",
    "**(5) create the final dataset.**"
   ]
  },
  {
   "cell_type": "code",
   "execution_count": null,
   "id": "007f4f30-fcb3-4862-8469-3b406a9803c3",
   "metadata": {},
   "outputs": [],
   "source": []
  }
 ],
 "metadata": {
  "kernelspec": {
   "display_name": "Python 3 (ipykernel)",
   "language": "python",
   "name": "python3"
  },
  "language_info": {
   "codemirror_mode": {
    "name": "ipython",
    "version": 3
   },
   "file_extension": ".py",
   "mimetype": "text/x-python",
   "name": "python",
   "nbconvert_exporter": "python",
   "pygments_lexer": "ipython3",
   "version": "3.12.4"
  }
 },
 "nbformat": 4,
 "nbformat_minor": 5
}
